{
 "cells": [
  {
   "cell_type": "code",
   "execution_count": null,
   "metadata": {},
   "outputs": [],
   "source": [
    "pip install openpyxl\n",
    "pip install selenium"
   ]
  },
  {
   "cell_type": "code",
   "execution_count": 10,
   "metadata": {},
   "outputs": [
    {
     "name": "stdout",
     "output_type": "stream",
     "text": [
      "Chandmeri, Varanasi\n",
      "Dafi, Varanasi\n",
      "Sarnath, Varanasi\n",
      "Suswahi, Varanasi\n",
      "Lahurabir, Varanasi\n",
      "Ramnagar, Varanasi\n",
      "Sundarpur, Varanasi\n",
      "Ashokpuram Colony, Varanasi\n",
      "Kabir Nagar, Varanasi\n",
      "Lanka, Varanasi\n",
      "Parao, Varanasi\n",
      "Ganesh Dham Colony, Varanasi\n"
     ]
    }
   ],
   "source": [
    "import time\n",
    "from selenium import webdriver\n",
    "from selenium.webdriver.common.keys import Keys\n",
    "from selenium.webdriver.common.by import By\n",
    "from selenium.webdriver.support.ui import WebDriverWait\n",
    "from selenium.webdriver.support import expected_conditions as EC\n",
    "from selenium.webdriver.chrome.service import Service\n",
    "\n",
    "from openpyxl import Workbook\n",
    "\n",
    "def scrape_localities(url):\n",
    "\n",
    "    # Specify the path to chromedriver\n",
    "    driver_path =r\".\\chromedriver-win64\\chromedriver.exe\"  # Replace with your actual path\n",
    "\n",
    "    # Create a service instance\n",
    "    service = Service(executable_path=driver_path)\n",
    "\n",
    "    # Set any additional options (if needed)\n",
    "    options = webdriver.ChromeOptions()\n",
    "\n",
    "    # Initialize the Chrome WebDriver\n",
    "    driver = webdriver.Chrome(service=service, options=options)\n",
    "\n",
    "    try:\n",
    "        # Open the URL\n",
    "        driver.get(url)\n",
    "        time.sleep(10)\n",
    "\n",
    "        # Scroll down (you can adjust the number of scrolls)\n",
    "        scrolls = 5\n",
    "        for _ in range(scrolls):\n",
    "            driver.find_element(By.TAG_NAME, \"body\").send_keys(Keys.PAGE_DOWN)\n",
    "            time.sleep(10)\n",
    "            WebDriverWait(driver, 10).until(EC.presence_of_element_located((By.CLASS_NAME, \"loc-card__title\")))\n",
    "\n",
    "        # Extract data from the \"loc-card__title\" class\n",
    "        titles = driver.find_elements(By.CLASS_NAME, \"loc-card__title\")\n",
    "        wb = Workbook()\n",
    "        ws = wb.active\n",
    "        for title in titles:\n",
    "            print(title.text.strip())\n",
    "            x=title.text.strip()\n",
    "            ws.append([x])\n",
    "\n",
    "        wb.save(\"Output.xlsx\")\n",
    "\n",
    "    finally:\n",
    "        # Close the browser\n",
    "        driver.quit()\n",
    "\n",
    "# Call the function with the provided URL\n",
    "scrape_localities(\"https://www.magicbricks.com/localities-in-varanasi\")\n"
   ]
  }
 ],
 "metadata": {
  "kernelspec": {
   "display_name": "Python 3",
   "language": "python",
   "name": "python3"
  },
  "language_info": {
   "codemirror_mode": {
    "name": "ipython",
    "version": 3
   },
   "file_extension": ".py",
   "mimetype": "text/x-python",
   "name": "python",
   "nbconvert_exporter": "python",
   "pygments_lexer": "ipython3",
   "version": "3.12.1"
  }
 },
 "nbformat": 4,
 "nbformat_minor": 2
}
